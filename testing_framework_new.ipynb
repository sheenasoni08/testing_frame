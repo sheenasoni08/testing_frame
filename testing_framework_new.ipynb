{
 "cells": [
  {
   "cell_type": "code",
   "execution_count": null,
   "id": "a364cd07",
   "metadata": {},
   "outputs": [],
   "source": [
    "!pip install psycopg2"
   ]
  },
  {
   "cell_type": "code",
   "execution_count": 1,
   "id": "a6594ed1",
   "metadata": {},
   "outputs": [],
   "source": [
    "import os\n",
    "import cx_Oracle\n",
    "import pandas as pd\n",
    "\n",
    "import webbrowser\n",
    "import psycopg2"
   ]
  },
  {
   "cell_type": "code",
   "execution_count": 2,
   "id": "4ccb1407",
   "metadata": {},
   "outputs": [],
   "source": [
    "#config file\n",
    "redshift_conn_params = {'database':'dev', 'host': 'testing-fw-wgrp.419835568062.ap-south-1.redshift-serverless.amazonaws.com', 'port': 5439, \n",
    "                  'username': 'admin', 'password': 'Saama123'}\n",
    "\n",
    "oracle_conn_params = {'service_name' :\"database\", 'host': 'oracle-db.c2jpp1uei2md.ap-south-1.rds.amazonaws.com', 'port': 1521,\n",
    "                  'username': 'admin', 'password': 'Saama123'}\n",
    "\n",
    "table_name = 'customers'\n",
    "\n",
    "\n",
    "\n",
    "\n",
    "\n",
    "#=======================\n",
    "\n",
    "ora_user = \"admin\"\n",
    "ora_pwd = \"Saama123\"\n",
    "host = \"oracle-db.c2jpp1uei2md.ap-south-1.rds.amazonaws.com\"\n",
    "port = 1521\n",
    "service_name = \"DATABASE\"\n",
    "ora_tab_name = \"CUSTOMERS\"\n",
    "\n",
    "\n",
    "# Connection parameters for redshift\n",
    "\n",
    "redshift_db = 'dev'\n",
    "redshift_user = 'admin'\n",
    "redshift_pwd = 'Saama123'\n",
    "redshift_host = 'testing-fw-wgrp.419835568062.ap-south-1.redshift-serverless.amazonaws.com'\n",
    "redshift_port = '5439'\n",
    "redshift_tab_name = 'customers'"
   ]
  },
  {
   "cell_type": "code",
   "execution_count": 3,
   "id": "0e5432c2",
   "metadata": {},
   "outputs": [],
   "source": [
    "cx_Oracle.init_oracle_client(\n",
    "    lib_dir=r\"C:\\Users\\kanch\\Downloads\\instantclient-basic-windows.x64-21.10.0.0.0dbru\\instantclient_21_10\")"
   ]
  },
  {
   "cell_type": "code",
   "execution_count": 4,
   "id": "be3ea790",
   "metadata": {},
   "outputs": [],
   "source": [
    "def get_oracle_columns(user, password, host, port, service_name, table_name):\n",
    "    \"\"\"\n",
    "    Connects to Oracle database and retrieves the columns of a specific table.\n",
    "\n",
    "    Args:\n",
    "        user (str): Oracle database username.\n",
    "        password (str): Oracle database password.\n",
    "        host (str): Oracle database host.\n",
    "        port (int): Oracle database port.\n",
    "        service_name (str): Oracle database service name.\n",
    "        table_name (str): Name of the table to retrieve columns from.\n",
    "\n",
    "    Returns:\n",
    "        list: List of Oracle column descriptions.\n",
    "\n",
    "    \"\"\"\n",
    "    oracle_connection = cx_Oracle.connect(f\"{user}/{password}@{host}:{port}/{service_name}\")\n",
    "    oracle_cursor = oracle_connection.cursor()\n",
    "    oracle_cursor.execute(f\"SELECT * FROM {table_name} WHERE 1=0\")\n",
    "    oracle_columns = oracle_cursor.description\n",
    "    oracle_cursor.close()\n",
    "    oracle_connection.close()\n",
    "    return oracle_columns"
   ]
  },
  {
   "cell_type": "code",
   "execution_count": 19,
   "id": "60a1a826",
   "metadata": {},
   "outputs": [],
   "source": [
    "# Connection redshift \n",
    "\n",
    "def get_redshift_table_schema(host, port, database, username, password, table_name):\n",
    "    # Create a connection string\n",
    "    conn_string = f\"dbname={database} user={username} password={password} host={host} port={port}\"\n",
    "    # Establish a connection\n",
    "    conn = psycopg2.connect(conn_string)\n",
    "    # Get a cursor\n",
    "    cursor = conn.cursor()\n",
    "\n",
    "    # Get the column data types and field names\n",
    "    query = f\"SELECT column_name, data_type FROM information_schema.columns WHERE table_name = '{table_name}'\"\n",
    "    cursor.execute(query)\n",
    "    # Fetch the results\n",
    "    results = cursor.fetchall()\n",
    "\n",
    "    # Close the cursor and connection\n",
    "    cursor.close()\n",
    "    conn.close()\n",
    "\n",
    "    # Convert the results to a dictionary\n",
    "    schema_dict = {field: data_type for field, data_type in results}   \n",
    "   \n",
    "    return schema_dict"
   ]
  },
  {
   "cell_type": "code",
   "execution_count": 61,
   "id": "aaf83182",
   "metadata": {},
   "outputs": [],
   "source": [
    "def redshift_to_oracle_datatypes(redshift_field_datatypes):\n",
    "    \n",
    "    redshift_to_oracle_mapping = {\n",
    "        'integer': 'number',\n",
    "        'bigint': 'number',\n",
    "        'smallint': 'number',\n",
    "        'decimal': 'number',\n",
    "        'numeric': 'number',\n",
    "        'real': 'float',\n",
    "        'double precision': 'float',\n",
    "        'char': 'char',\n",
    "        'character': 'char',\n",
    "        'varchar': 'varchar2',\n",
    "        'character varying': 'varchar2',\n",
    "        'date': 'date',\n",
    "        'timestamp': 'timestamp',\n",
    "        'boolean': 'number'\n",
    "    }\n",
    "    converted_datatypes = {}\n",
    "    for redshift_datatype in redshift_field_datatypes:\n",
    "        print(redshift_datatype.lower())\n",
    "        oracle_datatype = redshift_to_oracle_mapping.get(redshift_field_datatypes[redshift_datatype.lower()])\n",
    "        converted_datatypes[redshift_datatype] = oracle_datatype\n",
    "    \n",
    "    return converted_datatypes\n",
    "    \n",
    "#ch_res=redshift_to_oracle_datatypes({'full_name': 'character varying', 'email_address': 'character varying', 'customer_id': 'integer'})\n",
    " \n",
    "#print(ch_res)"
   ]
  },
  {
   "cell_type": "code",
   "execution_count": 7,
   "id": "87a2bad4",
   "metadata": {},
   "outputs": [],
   "source": [
    "def get_oracle_columns_and_datatypes(user, password, host, port, service_name, table_name):\n",
    "    \"\"\"\n",
    "    Connects to Oracle database and retrieves the columns of a specific table.\n",
    "\n",
    "    Args:\n",
    "        user (str): Oracle database username.\n",
    "        password (str): Oracle database password.\n",
    "        host (str): Oracle database host.\n",
    "        port (int): Oracle database port.\n",
    "        service_name (str): Oracle database service name.\n",
    "        table_name (str): Name of the table to retrieve columns from.\n",
    "\n",
    "    Returns:\n",
    "        list: List of Oracle column descriptions.\n",
    "\n",
    "    \"\"\"\n",
    "    oracle_connection = cx_Oracle.connect(f\"{user}/{password}@{host}:{port}/{service_name}\")\n",
    "    oracle_cursor = oracle_connection.cursor()\n",
    "    oracle_cursor.execute(f\"SELECT * FROM {table_name} WHERE 1=0\")\n",
    "    oracle_columns = oracle_cursor.description\n",
    "    oracle_cursor.close()\n",
    "    oracle_connection.close()\n",
    "    return oracle_columns"
   ]
  },
  {
   "cell_type": "code",
   "execution_count": 8,
   "id": "02e32af8",
   "metadata": {},
   "outputs": [],
   "source": [
    "def oracle_to_redshift_datatype(oracle_datatype):\n",
    "    datatype_mapping = {\n",
    "        \"<cx_Oracle.DbType DB_TYPE_BFILE>\": \"bfile\",\n",
    "        \"<cx_Oracle.DbType DB_TYPE_BINARY_DOUBLE>\": \"binary_double\",\n",
    "        \"<cx_Oracle.DbType DB_TYPE_BINARY_FLOAT>\": \"binary_float\",\n",
    "        \"<cx_Oracle.DbType DB_TYPE_BLOB>\": \"blob\",\n",
    "        \"<cx_Oracle.DbType DB_TYPE_CHAR>\": \"char\",\n",
    "        \"<cx_Oracle.DbType DB_TYPE_CLOB>\": \"clob\",\n",
    "        \"<cx_Oracle.DbType DB_TYPE_CURSOR>\": \"cursor\",\n",
    "        \"<cx_Oracle.DbType DB_TYPE_DATE>\": \"date\",\n",
    "        \"<cx_Oracle.DbType DB_TYPE_INTERVAL_DS>\": \"interval_ds\",\n",
    "        \"<cx_Oracle.DbType DB_TYPE_JSON>\": \"json\",\n",
    "        \"<cx_Oracle.DbType DB_TYPE_LONG>\": \"long\",\n",
    "        \"<cx_Oracle.DbType DB_TYPE_LONG_RAW>\": \"long_raw\",\n",
    "        \"<cx_Oracle.DbType DB_TYPE_NCHAR>\": \"nchar\",\n",
    "        \"<cx_Oracle.DbType DB_TYPE_NCLOB>\": \"nclob\",\n",
    "        \"<cx_Oracle.DbType DB_TYPE_NUMBER>\": \"number\",\n",
    "        \"<cx_Oracle.DbType DB_TYPE_NVARCHAR>\": \"nvarchar\",\n",
    "        \"<cx_Oracle.DbType DB_TYPE_OBJECT>\": \"object\",\n",
    "        \"<cx_Oracle.DbType DB_TYPE_RAW>\": \"raw\",\n",
    "        \"<cx_Oracle.DbType DB_TYPE_ROWID>\": \"rowid\",\n",
    "        \"<cx_Oracle.DbType DB_TYPE_TIMESTAMP>\": \"timestamp\",\n",
    "        \"<cx_Oracle.DbType DB_TYPE_TIMESTAMP_LTZ>\": \"timestamp_ltz\",\n",
    "        \"<cx_Oracle.DbType DB_TYPE_VARCHAR>\": \"varchar2\"\n",
    "        # Add more mappings as needed\n",
    "    }\n",
    "    return datatype_mapping.get(oracle_datatype, 'unknown')"
   ]
  },
  {
   "cell_type": "code",
   "execution_count": 9,
   "id": "335ff35f",
   "metadata": {},
   "outputs": [],
   "source": [
    "\n",
    "def convert_oracle_output_to_dict(oracle_output):\n",
    "    converted_dict = {}\n",
    "    for column_info in oracle_output:\n",
    "        column_name = column_info[0]\n",
    "        oracle_datatype = str(column_info[1])\n",
    "        redshift_datatype = oracle_to_redshift_datatype(oracle_datatype)\n",
    "        converted_dict[column_name.lower()] = redshift_datatype\n",
    "    return converted_dict"
   ]
  },
  {
   "cell_type": "code",
   "execution_count": 59,
   "id": "55d246f3",
   "metadata": {},
   "outputs": [],
   "source": [
    "\n",
    "def compare_oracle_redshift_datatypes(redshift_datatypes, oracle_output):\n",
    "    # Convert Redshift datatypes to lowercase for comparison\n",
    "    redshift_datatypes_lower = {col.lower(): dtype.lower() for col, dtype in redshift_datatypes.items()}\n",
    "\n",
    "    # Convert Oracle output to lowercase dictionary\n",
    "    #oracle_dict = convert_oracle_output_to_dict(oracle_output)\n",
    "    oracle_dict = oracle_output\n",
    "\n",
    "    comparison_result = []\n",
    "    for col, oracle_dtype in oracle_dict.items():\n",
    "        redshift_dtype = redshift_datatypes_lower.get(col, None)\n",
    "        match = oracle_dtype == redshift_dtype\n",
    "        comparison_result.append((col, oracle_dtype, redshift_dtype, match))\n",
    "\n",
    "    df = pd.DataFrame(comparison_result, columns=['column_name', 'oracle_dtype', 'redshift_dtype', 'match'])\n",
    "    return df"
   ]
  },
  {
   "cell_type": "code",
   "execution_count": 63,
   "id": "0b54b908",
   "metadata": {},
   "outputs": [],
   "source": [
    "def generate_excel_report(comparison_results_df, filename):\n",
    "    # Create a Pandas Excel writer using the filename\n",
    "    writer = pd.ExcelWriter(filename, engine='xlsxwriter')\n",
    "\n",
    "    # Write the DataFrame to the Excel file\n",
    "    comparison_results_df.to_excel(writer, index=True)\n",
    "\n",
    "    # Save the Excel file\n",
    "    writer.save()\n",
    "    print(f\"Report has been generated at {filename}\")"
   ]
  },
  {
   "cell_type": "code",
   "execution_count": 75,
   "id": "8fba8e70",
   "metadata": {},
   "outputs": [],
   "source": [
    "def generate_csv_report(comparison_results_df, file_path):\n",
    "    \"\"\"\n",
    "    Write a pandas DataFrame to a CSV file.\n",
    "\n",
    "    Args:\n",
    "        dataframe (pd.DataFrame): The DataFrame to be written to CSV.\n",
    "        file_path (str): The file path along with the filename where the CSV file should be saved.\n",
    "    \"\"\"\n",
    "    comparison_results_df.to_csv(file_path, index=False)\n",
    "    print(f\"Report has been generated at {file_path}\")"
   ]
  },
  {
   "cell_type": "code",
   "execution_count": 62,
   "id": "26ce34a0",
   "metadata": {},
   "outputs": [
    {
     "name": "stdout",
     "output_type": "stream",
     "text": [
      "full_name\n",
      "email_address\n",
      "customer_id\n",
      "{'full_name': 'varchar2', 'email_address': 'varchar2', 'customer_id': 'number'}\n",
      "{'customer_key': 'number', 'email_address': 'varchar2', 'full_name': 'varchar2'}\n",
      "     column_name oracle_dtype redshift_dtype  match\n",
      "0   customer_key       number           None  False\n",
      "1  email_address     varchar2       varchar2   True\n",
      "2      full_name     varchar2       varchar2   True\n"
     ]
    },
    {
     "data": {
      "text/plain": [
       "'print(orac_dt)\\nprint(oracle_datatypes)'"
      ]
     },
     "execution_count": 62,
     "metadata": {},
     "output_type": "execute_result"
    }
   ],
   "source": [
    "rtdaya=get_redshift_table_schema(redshift_host, redshift_port, redshift_db, redshift_user, redshift_pwd, redshift_tab_name)\n",
    "\n",
    "redshift_datatypes = redshift_to_oracle_datatypes(\n",
    "get_redshift_table_schema(redshift_host, redshift_port, redshift_db, redshift_user, redshift_pwd, redshift_tab_name))\n",
    "\n",
    "\n",
    "orac_dt=get_oracle_columns_and_datatypes(ora_user, ora_pwd, host, port, service_name, ora_tab_name)\n",
    "oracle_datatypes = convert_oracle_output_to_dict(\n",
    "get_oracle_columns_and_datatypes(ora_user, ora_pwd, host, port, service_name, ora_tab_name))\n",
    "print(redshift_datatypes)\n",
    "print(oracle_datatypes)\n",
    "df = compare_oracle_redshift_datatypes(redshift_datatypes, oracle_datatypes)\n",
    "print(df)\n",
    "\n",
    "'''print(orac_dt)\n",
    "print(oracle_datatypes)'''\n"
   ]
  },
  {
   "cell_type": "code",
   "execution_count": 76,
   "id": "4936759f",
   "metadata": {},
   "outputs": [
    {
     "name": "stdout",
     "output_type": "stream",
     "text": [
      "Report has been generated at C:/Users/kanch/data_diff.csv\n"
     ]
    }
   ],
   "source": [
    "generate_csv_report(df, 'C:/Users/kanch/data_diff.csv')"
   ]
  },
  {
   "cell_type": "code",
   "execution_count": 77,
   "id": "cfce825b",
   "metadata": {},
   "outputs": [
    {
     "ename": "ValueError",
     "evalue": "Invalid extension for engine '<property object at 0x000001D734F94090>': 'csv'",
     "output_type": "error",
     "traceback": [
      "\u001b[1;31m---------------------------------------------------------------------------\u001b[0m",
      "\u001b[1;31mValueError\u001b[0m                                Traceback (most recent call last)",
      "Cell \u001b[1;32mIn[77], line 1\u001b[0m\n\u001b[1;32m----> 1\u001b[0m generate_excel_report(df, \u001b[38;5;124m'\u001b[39m\u001b[38;5;124mC:/Users/kanch/data_diff.csv\u001b[39m\u001b[38;5;124m'\u001b[39m)\n",
      "Cell \u001b[1;32mIn[63], line 3\u001b[0m, in \u001b[0;36mgenerate_excel_report\u001b[1;34m(comparison_results_df, filename)\u001b[0m\n\u001b[0;32m      1\u001b[0m \u001b[38;5;28;01mdef\u001b[39;00m \u001b[38;5;21mgenerate_excel_report\u001b[39m(comparison_results_df, filename):\n\u001b[0;32m      2\u001b[0m     \u001b[38;5;66;03m# Create a Pandas Excel writer using the filename\u001b[39;00m\n\u001b[1;32m----> 3\u001b[0m     writer \u001b[38;5;241m=\u001b[39m pd\u001b[38;5;241m.\u001b[39mExcelWriter(filename, engine\u001b[38;5;241m=\u001b[39m\u001b[38;5;124m'\u001b[39m\u001b[38;5;124mxlsxwriter\u001b[39m\u001b[38;5;124m'\u001b[39m)\n\u001b[0;32m      5\u001b[0m     \u001b[38;5;66;03m# Write the DataFrame to the Excel file\u001b[39;00m\n\u001b[0;32m      6\u001b[0m     comparison_results_df\u001b[38;5;241m.\u001b[39mto_excel(writer, index\u001b[38;5;241m=\u001b[39m\u001b[38;5;28;01mTrue\u001b[39;00m)\n",
      "File \u001b[1;32m~\\anaconda3\\Lib\\site-packages\\pandas\\io\\excel\\_xlsxwriter.py:205\u001b[0m, in \u001b[0;36mXlsxWriter.__init__\u001b[1;34m(self, path, engine, date_format, datetime_format, mode, storage_options, if_sheet_exists, engine_kwargs, **kwargs)\u001b[0m\n\u001b[0;32m    202\u001b[0m \u001b[38;5;28;01mif\u001b[39;00m mode \u001b[38;5;241m==\u001b[39m \u001b[38;5;124m\"\u001b[39m\u001b[38;5;124ma\u001b[39m\u001b[38;5;124m\"\u001b[39m:\n\u001b[0;32m    203\u001b[0m     \u001b[38;5;28;01mraise\u001b[39;00m \u001b[38;5;167;01mValueError\u001b[39;00m(\u001b[38;5;124m\"\u001b[39m\u001b[38;5;124mAppend mode is not supported with xlsxwriter!\u001b[39m\u001b[38;5;124m\"\u001b[39m)\n\u001b[1;32m--> 205\u001b[0m \u001b[38;5;28msuper\u001b[39m()\u001b[38;5;241m.\u001b[39m\u001b[38;5;21m__init__\u001b[39m(\n\u001b[0;32m    206\u001b[0m     path,\n\u001b[0;32m    207\u001b[0m     engine\u001b[38;5;241m=\u001b[39mengine,\n\u001b[0;32m    208\u001b[0m     date_format\u001b[38;5;241m=\u001b[39mdate_format,\n\u001b[0;32m    209\u001b[0m     datetime_format\u001b[38;5;241m=\u001b[39mdatetime_format,\n\u001b[0;32m    210\u001b[0m     mode\u001b[38;5;241m=\u001b[39mmode,\n\u001b[0;32m    211\u001b[0m     storage_options\u001b[38;5;241m=\u001b[39mstorage_options,\n\u001b[0;32m    212\u001b[0m     if_sheet_exists\u001b[38;5;241m=\u001b[39mif_sheet_exists,\n\u001b[0;32m    213\u001b[0m     engine_kwargs\u001b[38;5;241m=\u001b[39mengine_kwargs,\n\u001b[0;32m    214\u001b[0m )\n\u001b[0;32m    216\u001b[0m \u001b[38;5;28mself\u001b[39m\u001b[38;5;241m.\u001b[39m_book \u001b[38;5;241m=\u001b[39m Workbook(\u001b[38;5;28mself\u001b[39m\u001b[38;5;241m.\u001b[39m_handles\u001b[38;5;241m.\u001b[39mhandle, \u001b[38;5;241m*\u001b[39m\u001b[38;5;241m*\u001b[39mengine_kwargs)\n",
      "File \u001b[1;32m~\\anaconda3\\Lib\\site-packages\\pandas\\io\\excel\\_base.py:1299\u001b[0m, in \u001b[0;36mExcelWriter.__init__\u001b[1;34m(self, path, engine, date_format, datetime_format, mode, storage_options, if_sheet_exists, engine_kwargs, **kwargs)\u001b[0m\n\u001b[0;32m   1297\u001b[0m \u001b[38;5;28;01mif\u001b[39;00m \u001b[38;5;28misinstance\u001b[39m(path, \u001b[38;5;28mstr\u001b[39m):\n\u001b[0;32m   1298\u001b[0m     ext \u001b[38;5;241m=\u001b[39m os\u001b[38;5;241m.\u001b[39mpath\u001b[38;5;241m.\u001b[39msplitext(path)[\u001b[38;5;241m-\u001b[39m\u001b[38;5;241m1\u001b[39m]\n\u001b[1;32m-> 1299\u001b[0m     \u001b[38;5;28mself\u001b[39m\u001b[38;5;241m.\u001b[39mcheck_extension(ext)\n\u001b[0;32m   1301\u001b[0m \u001b[38;5;66;03m# use mode to open the file\u001b[39;00m\n\u001b[0;32m   1302\u001b[0m \u001b[38;5;28;01mif\u001b[39;00m \u001b[38;5;124m\"\u001b[39m\u001b[38;5;124mb\u001b[39m\u001b[38;5;124m\"\u001b[39m \u001b[38;5;129;01mnot\u001b[39;00m \u001b[38;5;129;01min\u001b[39;00m mode:\n",
      "File \u001b[1;32m~\\anaconda3\\Lib\\site-packages\\pandas\\io\\excel\\_base.py:1467\u001b[0m, in \u001b[0;36mExcelWriter.check_extension\u001b[1;34m(cls, ext)\u001b[0m\n\u001b[0;32m   1465\u001b[0m     ext \u001b[38;5;241m=\u001b[39m ext[\u001b[38;5;241m1\u001b[39m:]\n\u001b[0;32m   1466\u001b[0m \u001b[38;5;28;01mif\u001b[39;00m \u001b[38;5;129;01mnot\u001b[39;00m \u001b[38;5;28many\u001b[39m(ext \u001b[38;5;129;01min\u001b[39;00m extension \u001b[38;5;28;01mfor\u001b[39;00m extension \u001b[38;5;129;01min\u001b[39;00m \u001b[38;5;28mcls\u001b[39m\u001b[38;5;241m.\u001b[39m_supported_extensions):\n\u001b[1;32m-> 1467\u001b[0m     \u001b[38;5;28;01mraise\u001b[39;00m \u001b[38;5;167;01mValueError\u001b[39;00m(\u001b[38;5;124mf\u001b[39m\u001b[38;5;124m\"\u001b[39m\u001b[38;5;124mInvalid extension for engine \u001b[39m\u001b[38;5;124m'\u001b[39m\u001b[38;5;132;01m{\u001b[39;00m\u001b[38;5;28mcls\u001b[39m\u001b[38;5;241m.\u001b[39mengine\u001b[38;5;132;01m}\u001b[39;00m\u001b[38;5;124m'\u001b[39m\u001b[38;5;124m: \u001b[39m\u001b[38;5;124m'\u001b[39m\u001b[38;5;132;01m{\u001b[39;00mext\u001b[38;5;132;01m}\u001b[39;00m\u001b[38;5;124m'\u001b[39m\u001b[38;5;124m\"\u001b[39m)\n\u001b[0;32m   1468\u001b[0m \u001b[38;5;28;01melse\u001b[39;00m:\n\u001b[0;32m   1469\u001b[0m     \u001b[38;5;28;01mreturn\u001b[39;00m \u001b[38;5;28;01mTrue\u001b[39;00m\n",
      "\u001b[1;31mValueError\u001b[0m: Invalid extension for engine '<property object at 0x000001D734F94090>': 'csv'"
     ]
    }
   ],
   "source": []
  },
  {
   "cell_type": "code",
   "execution_count": null,
   "id": "a6c7a65f",
   "metadata": {},
   "outputs": [],
   "source": []
  }
 ],
 "metadata": {
  "kernelspec": {
   "display_name": "Python 3 (ipykernel)",
   "language": "python",
   "name": "python3"
  },
  "language_info": {
   "codemirror_mode": {
    "name": "ipython",
    "version": 3
   },
   "file_extension": ".py",
   "mimetype": "text/x-python",
   "name": "python",
   "nbconvert_exporter": "python",
   "pygments_lexer": "ipython3",
   "version": "3.11.3"
  }
 },
 "nbformat": 4,
 "nbformat_minor": 5
}
